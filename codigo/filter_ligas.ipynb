{
 "cells": [
  {
   "cell_type": "code",
   "execution_count": null,
   "metadata": {},
   "outputs": [],
   "source": [
    "from database import Database\n",
    "import json\n",
    "import pandas as pd\n",
    "\n",
    "with open('campeonatos_nao_analisados.json', mode='r', encoding='utf-8') as campeonatos:\n",
    "    ligas_nao_analisadas = json.load(campeonatos)\n",
    "\n",
    "a = Database().select('SELECT * FROM academia_apostas.analise_gols;')\n",
    "\n",
    "df1 = pd.DataFrame(a)\n",
    "\n",
    "ligas_unicas = df1[2].unique()\n",
    "ligas = pd.DataFrame(ligas_unicas)\n",
    "ligas_ordenadas_em_ordem_crescente = ligas.sort_values(by=0)\n",
    "\n",
    "ligas_convertidas_in_list = ligas_ordenadas_em_ordem_crescente.to_numpy().tolist()\n",
    "\n",
    "all_ligas = []\n",
    "for liga in ligas_convertidas_in_list:\n",
    "    all_ligas.append(liga[0])\n",
    "\n",
    "print('ligas permitidas')\n",
    "for liga in all_ligas:\n",
    "    if liga not in ligas_nao_analisadas:\n",
    "        print(liga)"
   ]
  },
  {
   "cell_type": "code",
   "execution_count": null,
   "metadata": {},
   "outputs": [],
   "source": [
    "print('ligas ignoradas')\n",
    "for liga in ligas_nao_analisadas:\n",
    "    print(liga)"
   ]
  }
 ],
 "metadata": {
  "kernelspec": {
   "display_name": "bot-analisajogos-F_yU1116-py3.11",
   "language": "python",
   "name": "python3"
  },
  "language_info": {
   "codemirror_mode": {
    "name": "ipython",
    "version": 3
   },
   "file_extension": ".py",
   "mimetype": "text/x-python",
   "name": "python",
   "nbconvert_exporter": "python",
   "pygments_lexer": "ipython3",
   "version": "3.11.0b4 (main, Jul 11 2022, 15:47:56) [MSC v.1932 64 bit (AMD64)]"
  },
  "orig_nbformat": 4,
  "vscode": {
   "interpreter": {
    "hash": "64fa95739652b548d3cc1baaec5e806c0f13dfa9ca72e127cda740b81460f38c"
   }
  }
 },
 "nbformat": 4,
 "nbformat_minor": 2
}
